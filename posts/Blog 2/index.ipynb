{
 "cells": [
  {
   "cell_type": "raw",
   "metadata": {
    "vscode": {
     "languageId": "raw"
    }
   },
   "source": [
    "---\n",
    "title: Blog 2 - Maximizing Loan Profit\n",
    "author: Ryan Mauney\n",
    "date: '2024-03-05'\n",
    "image: \"image.jpg\"\n",
    "description: \"Using a linear score based classifier to maximize bank profits on loans\"\n",
    "format: html\n",
    "---"
   ]
  },
  {
   "cell_type": "markdown",
   "metadata": {},
   "source": [
    "# Abstract"
   ]
  },
  {
   "cell_type": "markdown",
   "metadata": {},
   "source": [
    "# Data Exploration"
   ]
  },
  {
   "cell_type": "code",
   "execution_count": 1,
   "metadata": {},
   "outputs": [
    {
     "data": {
      "text/html": [
       "<div>\n",
       "<style scoped>\n",
       "    .dataframe tbody tr th:only-of-type {\n",
       "        vertical-align: middle;\n",
       "    }\n",
       "\n",
       "    .dataframe tbody tr th {\n",
       "        vertical-align: top;\n",
       "    }\n",
       "\n",
       "    .dataframe thead th {\n",
       "        text-align: right;\n",
       "    }\n",
       "</style>\n",
       "<table border=\"1\" class=\"dataframe\">\n",
       "  <thead>\n",
       "    <tr style=\"text-align: right;\">\n",
       "      <th></th>\n",
       "      <th>person_age</th>\n",
       "      <th>person_income</th>\n",
       "      <th>person_home_ownership</th>\n",
       "      <th>person_emp_length</th>\n",
       "      <th>loan_intent</th>\n",
       "      <th>loan_grade</th>\n",
       "      <th>loan_amnt</th>\n",
       "      <th>loan_int_rate</th>\n",
       "      <th>loan_status</th>\n",
       "      <th>loan_percent_income</th>\n",
       "      <th>cb_person_default_on_file</th>\n",
       "      <th>cb_person_cred_hist_length</th>\n",
       "    </tr>\n",
       "  </thead>\n",
       "  <tbody>\n",
       "    <tr>\n",
       "      <th>1</th>\n",
       "      <td>27</td>\n",
       "      <td>98000</td>\n",
       "      <td>RENT</td>\n",
       "      <td>3.0</td>\n",
       "      <td>EDUCATION</td>\n",
       "      <td>C</td>\n",
       "      <td>11750</td>\n",
       "      <td>0.1347</td>\n",
       "      <td>0</td>\n",
       "      <td>0.12</td>\n",
       "      <td>Y</td>\n",
       "      <td>6</td>\n",
       "    </tr>\n",
       "    <tr>\n",
       "      <th>2</th>\n",
       "      <td>22</td>\n",
       "      <td>36996</td>\n",
       "      <td>RENT</td>\n",
       "      <td>5.0</td>\n",
       "      <td>EDUCATION</td>\n",
       "      <td>A</td>\n",
       "      <td>10000</td>\n",
       "      <td>0.0751</td>\n",
       "      <td>0</td>\n",
       "      <td>0.27</td>\n",
       "      <td>N</td>\n",
       "      <td>4</td>\n",
       "    </tr>\n",
       "    <tr>\n",
       "      <th>3</th>\n",
       "      <td>24</td>\n",
       "      <td>26000</td>\n",
       "      <td>RENT</td>\n",
       "      <td>2.0</td>\n",
       "      <td>MEDICAL</td>\n",
       "      <td>C</td>\n",
       "      <td>1325</td>\n",
       "      <td>0.1287</td>\n",
       "      <td>1</td>\n",
       "      <td>0.05</td>\n",
       "      <td>N</td>\n",
       "      <td>4</td>\n",
       "    </tr>\n",
       "    <tr>\n",
       "      <th>4</th>\n",
       "      <td>29</td>\n",
       "      <td>53004</td>\n",
       "      <td>MORTGAGE</td>\n",
       "      <td>2.0</td>\n",
       "      <td>HOMEIMPROVEMENT</td>\n",
       "      <td>A</td>\n",
       "      <td>15000</td>\n",
       "      <td>0.0963</td>\n",
       "      <td>0</td>\n",
       "      <td>0.28</td>\n",
       "      <td>N</td>\n",
       "      <td>10</td>\n",
       "    </tr>\n",
       "    <tr>\n",
       "      <th>6</th>\n",
       "      <td>21</td>\n",
       "      <td>21700</td>\n",
       "      <td>RENT</td>\n",
       "      <td>2.0</td>\n",
       "      <td>HOMEIMPROVEMENT</td>\n",
       "      <td>D</td>\n",
       "      <td>5500</td>\n",
       "      <td>0.1491</td>\n",
       "      <td>1</td>\n",
       "      <td>0.25</td>\n",
       "      <td>N</td>\n",
       "      <td>2</td>\n",
       "    </tr>\n",
       "    <tr>\n",
       "      <th>...</th>\n",
       "      <td>...</td>\n",
       "      <td>...</td>\n",
       "      <td>...</td>\n",
       "      <td>...</td>\n",
       "      <td>...</td>\n",
       "      <td>...</td>\n",
       "      <td>...</td>\n",
       "      <td>...</td>\n",
       "      <td>...</td>\n",
       "      <td>...</td>\n",
       "      <td>...</td>\n",
       "      <td>...</td>\n",
       "    </tr>\n",
       "    <tr>\n",
       "      <th>26059</th>\n",
       "      <td>36</td>\n",
       "      <td>150000</td>\n",
       "      <td>MORTGAGE</td>\n",
       "      <td>8.0</td>\n",
       "      <td>EDUCATION</td>\n",
       "      <td>A</td>\n",
       "      <td>3000</td>\n",
       "      <td>0.0729</td>\n",
       "      <td>0</td>\n",
       "      <td>0.02</td>\n",
       "      <td>N</td>\n",
       "      <td>17</td>\n",
       "    </tr>\n",
       "    <tr>\n",
       "      <th>26060</th>\n",
       "      <td>23</td>\n",
       "      <td>48000</td>\n",
       "      <td>RENT</td>\n",
       "      <td>1.0</td>\n",
       "      <td>VENTURE</td>\n",
       "      <td>A</td>\n",
       "      <td>4325</td>\n",
       "      <td>0.0542</td>\n",
       "      <td>0</td>\n",
       "      <td>0.09</td>\n",
       "      <td>N</td>\n",
       "      <td>4</td>\n",
       "    </tr>\n",
       "    <tr>\n",
       "      <th>26061</th>\n",
       "      <td>22</td>\n",
       "      <td>60000</td>\n",
       "      <td>RENT</td>\n",
       "      <td>0.0</td>\n",
       "      <td>MEDICAL</td>\n",
       "      <td>B</td>\n",
       "      <td>15000</td>\n",
       "      <td>0.1171</td>\n",
       "      <td>0</td>\n",
       "      <td>0.25</td>\n",
       "      <td>N</td>\n",
       "      <td>4</td>\n",
       "    </tr>\n",
       "    <tr>\n",
       "      <th>26062</th>\n",
       "      <td>30</td>\n",
       "      <td>144000</td>\n",
       "      <td>MORTGAGE</td>\n",
       "      <td>12.0</td>\n",
       "      <td>PERSONAL</td>\n",
       "      <td>C</td>\n",
       "      <td>35000</td>\n",
       "      <td>0.1268</td>\n",
       "      <td>0</td>\n",
       "      <td>0.24</td>\n",
       "      <td>N</td>\n",
       "      <td>8</td>\n",
       "    </tr>\n",
       "    <tr>\n",
       "      <th>26063</th>\n",
       "      <td>25</td>\n",
       "      <td>60000</td>\n",
       "      <td>RENT</td>\n",
       "      <td>5.0</td>\n",
       "      <td>EDUCATION</td>\n",
       "      <td>A</td>\n",
       "      <td>21450</td>\n",
       "      <td>0.0729</td>\n",
       "      <td>1</td>\n",
       "      <td>0.36</td>\n",
       "      <td>N</td>\n",
       "      <td>4</td>\n",
       "    </tr>\n",
       "  </tbody>\n",
       "</table>\n",
       "<p>22907 rows × 12 columns</p>\n",
       "</div>"
      ],
      "text/plain": [
       "       person_age  person_income person_home_ownership  person_emp_length  \\\n",
       "1              27          98000                  RENT                3.0   \n",
       "2              22          36996                  RENT                5.0   \n",
       "3              24          26000                  RENT                2.0   \n",
       "4              29          53004              MORTGAGE                2.0   \n",
       "6              21          21700                  RENT                2.0   \n",
       "...           ...            ...                   ...                ...   \n",
       "26059          36         150000              MORTGAGE                8.0   \n",
       "26060          23          48000                  RENT                1.0   \n",
       "26061          22          60000                  RENT                0.0   \n",
       "26062          30         144000              MORTGAGE               12.0   \n",
       "26063          25          60000                  RENT                5.0   \n",
       "\n",
       "           loan_intent loan_grade  loan_amnt  loan_int_rate  loan_status  \\\n",
       "1            EDUCATION          C      11750         0.1347            0   \n",
       "2            EDUCATION          A      10000         0.0751            0   \n",
       "3              MEDICAL          C       1325         0.1287            1   \n",
       "4      HOMEIMPROVEMENT          A      15000         0.0963            0   \n",
       "6      HOMEIMPROVEMENT          D       5500         0.1491            1   \n",
       "...                ...        ...        ...            ...          ...   \n",
       "26059        EDUCATION          A       3000         0.0729            0   \n",
       "26060          VENTURE          A       4325         0.0542            0   \n",
       "26061          MEDICAL          B      15000         0.1171            0   \n",
       "26062         PERSONAL          C      35000         0.1268            0   \n",
       "26063        EDUCATION          A      21450         0.0729            1   \n",
       "\n",
       "       loan_percent_income cb_person_default_on_file  \\\n",
       "1                     0.12                         Y   \n",
       "2                     0.27                         N   \n",
       "3                     0.05                         N   \n",
       "4                     0.28                         N   \n",
       "6                     0.25                         N   \n",
       "...                    ...                       ...   \n",
       "26059                 0.02                         N   \n",
       "26060                 0.09                         N   \n",
       "26061                 0.25                         N   \n",
       "26062                 0.24                         N   \n",
       "26063                 0.36                         N   \n",
       "\n",
       "       cb_person_cred_hist_length  \n",
       "1                               6  \n",
       "2                               4  \n",
       "3                               4  \n",
       "4                              10  \n",
       "6                               2  \n",
       "...                           ...  \n",
       "26059                          17  \n",
       "26060                           4  \n",
       "26061                           4  \n",
       "26062                           8  \n",
       "26063                           4  \n",
       "\n",
       "[22907 rows x 12 columns]"
      ]
     },
     "execution_count": 1,
     "metadata": {},
     "output_type": "execute_result"
    }
   ],
   "source": [
    "import pandas as pd\n",
    "import numpy as np\n",
    "import seaborn as sns\n",
    "import warnings\n",
    "\n",
    "warnings.filterwarnings('ignore')\n",
    "\n",
    "url = \"https://raw.githubusercontent.com/PhilChodrow/ml-notes/main/data/credit-risk/train.csv\"\n",
    "df_train = pd.read_csv(url)\n",
    "df_train = df_train.dropna()\n",
    "df_train[\"loan_int_rate\"] = df_train[\"loan_int_rate\"] / 100\n",
    "\n",
    "# make a copy to use and view that data\n",
    "df_ = df_train.copy()\n",
    "df_"
   ]
  },
  {
   "cell_type": "markdown",
   "metadata": {},
   "source": [
    "Lets explore how loan intent varies across age groups"
   ]
  },
  {
   "cell_type": "code",
   "execution_count": 2,
   "metadata": {},
   "outputs": [
    {
     "data": {
      "text/plain": [
       "Text(0.5, 1.0, 'Loan Intent by Age')"
      ]
     },
     "execution_count": 2,
     "metadata": {},
     "output_type": "execute_result"
    },
    {
     "data": {
      "image/png": "[encoded data removed]",
      "text/plain": [
       "<Figure size 640x480 with 1 Axes>"
      ]
     },
     "metadata": {},
     "output_type": "display_data"
    }
   ],
   "source": [
    "# first lets add a column for age groups\n",
    "df_[\"age_group\"] = df_[\"person_age\"] // 10\n",
    "df_[\"age_group\"][df_[\"age_group\"] >= 10 ] = 10\n",
    "\n",
    "# Get the counts of each loan intent within each age group\n",
    "loan_intent_counts = df_.groupby(\"age_group\")[\"loan_intent\"].value_counts().unstack()\n",
    "loan_intent_counts = loan_intent_counts.fillna(0)\n",
    "\n",
    "# Convert counts to proportions relative to each age group\n",
    "loan_intent_prop = loan_intent_counts.div(loan_intent_counts.sum(axis=1), axis=0)\n",
    "\n",
    "# visualize the trends of loan intent and age\n",
    "temp = pd.melt(loan_intent_prop)\n",
    "\n",
    "temp[\"age_group\"] = 0 # rebuild the age group category\n",
    "for i in range(0, len(temp) + 1):\n",
    "  temp[\"age_group\"][i] = (i % 9) + 2\n",
    "\n",
    "ax = sns.barplot(data = temp, x = \"age_group\", y = \"value\", hue = \"loan_intent\")\n",
    "ax.set_xlabel(\"Age Group\")\n",
    "ax.set_ylabel(\"Proportion\")\n",
    "ax.set_title(\"Loan Intent by Age\")"
   ]
  },
  {
   "cell_type": "markdown",
   "metadata": {},
   "source": [
    "The chart indicates that personal loans are most common among individuals aged 20-29, 40-49, and 90-99, suggesting a consistent need for general-purpose borrowing across different life stages. Medical loans peak in the 40-49 and 50-59 age groups, likely due to increasing healthcare expenses. Education loans spike in the 70-79 age group, which may indicate late-stage career shifts or funding for dependents. Debt consolidation loans are relatively steady, with moderate representation in the 30-39, 50-59, and 60-69 age groups. Home improvement loans have lower proportions overall but see slight increases among borrowers aged 20-29 and 80-89. Venture loans are sporadic, with small peaks in the 50-59 and 60-69 age groups, possibly reflecting mid-life entrepreneurial activity. These trends highlight how borrowing needs evolve across different age brackets."
   ]
  },
  {
   "cell_type": "code",
   "execution_count": 3,
   "metadata": {},
   "outputs": [
    {
     "name": "stdout",
     "output_type": "stream",
     "text": [
      "income_cat\n",
      "0      8892.0\n",
      "1     13697.0\n",
      "2     17380.0\n",
      "3     18896.0\n",
      "4     18670.0\n",
      "5     15136.0\n",
      "6     17267.0\n",
      "7     13192.0\n",
      "9     19150.0\n",
      "12    10000.0\n",
      "13     6600.0\n",
      "14     6400.0\n",
      "20     8450.0\n",
      "60     5000.0\n",
      "Name: loan_amnt, dtype: float64\n"
     ]
    }
   ],
   "source": [
    "df_2 = df_train.copy()\n",
    "df_2[\"income_cat\"] = df_2[\"person_income\"] // 100000\n",
    "\n",
    "print(df_2.groupby(\"income_cat\")[\"loan_amnt\"].mean().round())"
   ]
  },
  {
   "cell_type": "markdown",
   "metadata": {},
   "source": [
    "While salary (income category) does seem to affect the loan amount, with people having higher salaries taking out larger loans, the higher income categories actually often have lower loan amounts than the lower income categories. This may be a product of people making larger salaries not needing to take out loans as frequently as the middle salaries, which can afford to take out larger loans and pay them back. Let's also determine what factors seem to be related to higher interest rates."
   ]
  },
  {
   "cell_type": "code",
   "execution_count": 4,
   "metadata": {},
   "outputs": [
    {
     "name": "stdout",
     "output_type": "stream",
     "text": [
      "loan_int_rate  loan_grade\n",
      "0.0542         A             443\n",
      "0.0579         A             289\n",
      "0.0599         A             284\n",
      "0.0600         A               1\n",
      "               B               3\n",
      "                            ... \n",
      "0.2136         F               4\n",
      "0.2174         F               2\n",
      "0.2211         G               2\n",
      "0.2248         G               1\n",
      "0.2322         G               1\n",
      "Length: 371, dtype: int64\n"
     ]
    }
   ],
   "source": [
    "print(df_train.groupby([\"loan_int_rate\", \"loan_grade\"]).size())"
   ]
  },
  {
   "cell_type": "markdown",
   "metadata": {},
   "source": [
    "From this snapshot of the larger table, it seems that the high grade loans are associated with the lowest interest rates. Lets explore factors related to loan grades by grouping."
   ]
  },
  {
   "cell_type": "code",
   "execution_count": 5,
   "metadata": {},
   "outputs": [
    {
     "name": "stdout",
     "output_type": "stream",
     "text": [
      "            person_income  loan_percent_income     loan_amnt\n",
      "loan_grade                                                  \n",
      "A            66773.007816             0.152629   8555.884885\n",
      "B            66662.091096             0.173846  10031.025007\n",
      "C            66416.633130             0.168928   9322.102794\n",
      "D            64555.473908             0.188833  10821.646695\n",
      "E            70868.349432             0.204190  12929.083807\n",
      "F            80756.546012             0.220982  15395.705521\n",
      "G            77342.477273             0.243409  17384.659091\n"
     ]
    }
   ],
   "source": [
    "temp = df_train.groupby(\"loan_grade\")[[\"person_income\", \"loan_percent_income\", \"loan_amnt\"]].mean()\n",
    "\n",
    "print(temp)"
   ]
  },
  {
   "cell_type": "markdown",
   "metadata": {},
   "source": [
    "As we can see from this datatable, loan grade is directly correlated with lower percent of total income. Meaning that higher quality loans, with lower interest rates are associated with loaners whose loan takes up the smallest percent of their total income. This is likely related to the loan taking up a lower percent of their income making it less likely for them to default on the loan. It also seems to follow that people with higher income tend to take out larger loans."
   ]
  },
  {
   "cell_type": "code",
   "execution_count": 6,
   "metadata": {},
   "outputs": [
    {
     "data": {
      "text/plain": [
       "<Axes: xlabel='person_income', ylabel='loan_amnt'>"
      ]
     },
     "execution_count": 6,
     "metadata": {},
     "output_type": "execute_result"
    },
    {
     "data": {
      "image/png": "[encoded data removed]",
      "text/plain": [
       "<Figure size 640x480 with 1 Axes>"
      ]
     },
     "metadata": {},
     "output_type": "display_data"
    }
   ],
   "source": [
    "sns.scatterplot(data = temp, x = temp[\"person_income\"], y = \"loan_amnt\", hue = \"loan_percent_income\", legend = \"brief\")"
   ]
  },
  {
   "cell_type": "markdown",
   "metadata": {},
   "source": [
    "Lower income tends to result in smaller loans, which also take up less percent of loaners total income. The darker shades representing higher percent of total income are associated with lower quality loans. Higher quality loans are assesed to be more likely to repay the loan instead of defaulting."
   ]
  },
  {
   "cell_type": "markdown",
   "metadata": {},
   "source": [
    "# Feature Selection & Weight Assessment"
   ]
  },
  {
   "cell_type": "markdown",
   "metadata": {},
   "source": [
    "Select the predictor and target variables related to loan grade."
   ]
  },
  {
   "cell_type": "code",
   "execution_count": 7,
   "metadata": {},
   "outputs": [],
   "source": [
    "from sklearn.model_selection import train_test_split\n",
    "\n",
    "# select the predictor variables identified with loan grade. Also the include the loaners default history\n",
    "predictor_cols = [\"person_income\", \"loan_amnt\", \"loan_percent_income\", \"loan_int_rate\", \"cb_person_default_on_file\"]\n",
    "X_model = df_train[predictor_cols].copy()  # Use .copy() to avoid modifying the original DataFrame\n",
    "\n",
    "# target variable selection\n",
    "y_model = np.array(df_train[\"loan_status\"])\n",
    "\n",
    "# Create binary indicators for past defaults\n",
    "X_model[\"past_default_yes\"] = X_model[\"cb_person_default_on_file\"] == \"Y\"\n",
    "X_model[\"past_default_no\"] = X_model[\"cb_person_default_on_file\"] == \"N\"\n",
    "\n",
    "# Generate weighted default predictor\n",
    "X_model[\"weighted_default\"] = X_model[\"loan_percent_income\"] * (1 +  X_model[\"past_default_yes\"])\n",
    "\n",
    "# Generate weigthed interest rate predictor\n",
    "X_model[\"weighted_interest\"] = (1 + X_model[\"loan_int_rate\"]) * X_model[\"loan_amnt\"] * (1 + X_model[\"past_default_yes\"])\n",
    "\n",
    "# Drop the original categorical column\n",
    "X_model.drop(\"cb_person_default_on_file\", axis=1, inplace=True)\n",
    "\n",
    "# Breaking into training and testing data\n",
    "X_train, X_test, y_train, y_test = train_test_split(X_model, y_model, test_size=0.2)"
   ]
  },
  {
   "cell_type": "markdown",
   "metadata": {},
   "source": [
    "Fit a Linear Regression model to the data and assess its accuracy of prediction. Try all combinations of predictors. Once a good model is fit, pull out the weight coefficient to use for a linear score based classifier."
   ]
  },
  {
   "cell_type": "code",
   "execution_count": 8,
   "metadata": {},
   "outputs": [],
   "source": [
    "from sklearn.linear_model import LogisticRegression\n",
    "from sklearn.model_selection import cross_val_score\n",
    "from itertools import combinations\n",
    "from sklearn.metrics import accuracy_score\n",
    "\n",
    "numerical_predictors = [\"person_income\", \"loan_amnt\", \"loan_percent_income\", \"loan_int_rate\", \"weighted_default\", \"weighted_interest\"]\n",
    "qual_predictors = [\"past_default_yes\", \"past_default_no\"]\n",
    "predictor_cols = numerical_predictors + qual_predictors\n",
    "\n",
    "results = []\n",
    "\n",
    "# compute the best combinations\n",
    "for r in range(1, len(predictor_cols) + 1):  # From 1 feature to all features\n",
    "    for subset in combinations(predictor_cols, r):\n",
    "        test_cols = list(subset)\n",
    "        \n",
    "        # Select subset of features\n",
    "        X_train_subset = X_train[test_cols]\n",
    "        X_test_subset = X_test[test_cols]\n",
    "        \n",
    "        # Train a simple logistic regression model\n",
    "        model = LogisticRegression(max_iter=1000)\n",
    "        model.fit(X_train_subset, y_train)\n",
    "\n",
    "        # Predict and evaluate\n",
    "        y_pred = model.predict(X_test_subset)\n",
    "        accuracy = accuracy_score(y_test, y_pred)\n",
    "        \n",
    "        # Store results\n",
    "        results.append({\"features\": test_cols, \"accuracy\": accuracy})"
   ]
  },
  {
   "cell_type": "markdown",
   "metadata": {},
   "source": [
    "From the list of feature combinations, pull out the top 5 and retest them against the premade training and testing data. Once the best from this list has been identified, verify its accuracy with cross validation to check for overfitting. If the features pass, pull out the weights coefficient to use for a linear score based classifier. "
   ]
  },
  {
   "cell_type": "code",
   "execution_count": 12,
   "metadata": {},
   "outputs": [
    {
     "name": "stdout",
     "output_type": "stream",
     "text": [
      "The predictors with the highest testing accuracy are: ['person_income', 'loan_amnt', 'loan_percent_income', 'loan_int_rate']\n",
      "Accuracy = 0.83085988651244\n",
      "Cross validation for the selected predictors: [0.83206107 0.83097056 0.82751092 0.82532751 0.81441048]\n"
     ]
    }
   ],
   "source": [
    "# select the top results by accuracy\n",
    "best_features = pd.DataFrame(results).sort_values(by = \"accuracy\", ascending = False).head(5)[\"features\"].tolist()\n",
    "\n",
    "true_predictors = []\n",
    "best_acc = 0\n",
    "\n",
    "for features in best_features:\n",
    "    # fit a model to the feature list\n",
    "    LR_test = LogisticRegression()\n",
    "    m_test = LR_test.fit(X_train[features], y_train)\n",
    "\n",
    "    y_pred = LR_test.predict(X_test[features])\n",
    "    acc = accuracy_score(y_test, y_pred)\n",
    "\n",
    "    if acc > best_acc:\n",
    "        best_acc = acc\n",
    "        true_predictors = features\n",
    "\n",
    "print(\"The predictors with the highest testing accuracy are: \" + str(true_predictors) + \"\\nAccuracy = \" + str(best_acc))\n",
    "\n",
    "# Check with cross validation\n",
    "LR_real = LogisticRegression()\n",
    "m_real = LR_real.fit(X_train[true_predictors], y_train)\n",
    "\n",
    "cv_scores_LR = cross_val_score(LR_real, X_test[true_predictors], y_test, cv = 5)\n",
    "\n",
    "print(\"Cross validation for the selected predictors: \" + str(cv_scores_LR))\n",
    "\n",
    "# store the weight coefficients for this model to build our linear score function\n",
    "w = m_real.coef_\n",
    "s = w.shape\n",
    "w = w.reshape(s[1], s[0])"
   ]
  },
  {
   "cell_type": "markdown",
   "metadata": {},
   "source": [
    "Upon inspecting accuracy versus the overall test set income the predictors above were selected as the best variables based purely on accuracy. These predictors also had reasonable cross validation scores that were similar to the overall testing accuracy; this implies that the model is consisent and not overfit. The weight constants from this model were then pulled out and stored for later used in a linear score function. "
   ]
  },
  {
   "cell_type": "markdown",
   "metadata": {},
   "source": [
    "# Optimizing a Linear Score Classification"
   ]
  },
  {
   "cell_type": "markdown",
   "metadata": {},
   "source": [
    "Start by defining our linear score function using our weight vector and our classification function with an arbitrary starting threshold. We will then optimize this threshold such that the bank makes the largest possible profit per loan."
   ]
  },
  {
   "cell_type": "code",
   "execution_count": 15,
   "metadata": {},
   "outputs": [
    {
     "data": {
      "image/png": "[encoded data removed]",
      "text/plain": [
       "<Figure size 600x400 with 1 Axes>"
      ]
     },
     "metadata": {},
     "output_type": "display_data"
    }
   ],
   "source": [
    "from matplotlib import pyplot as plt\n",
    "\n",
    "# Performs the dot product between the data vector X and the weight vector w\n",
    "def score(X, w):\n",
    "    return np.dot(X,w)\n",
    "\n",
    "# Returns the predictions of the model. 1 if the loaner is predicted to default, and 0 if they are predicted to repay the loan\n",
    "def predict(score, threshold, df):\n",
    "  scores = score(df, w)\n",
    "  return 1*(scores > threshold)\n",
    "\n",
    "# pull out model data\n",
    "X_model = X_train.copy()\n",
    "\n",
    "# initialize the benefit column\n",
    "X_model[\"benefit\"] = 0\n",
    "\n",
    "best_benefit = 0\n",
    "best_threshold = 0\n",
    "\n",
    "scores = score(X_model[true_predictors], w)\n",
    "\n",
    "fig, ax = plt.subplots(1, 1, figsize = (6, 4))\n",
    "for t in np.linspace(0, 10, 1001):\n",
    "    X_model[\"y_pred\"] = scores >= t\n",
    "\n",
    "    X_model[\"tn\"] = (X_model[\"y_pred\"] == 0) & (y_train == 0)\n",
    "    X_model[\"fn\"] = (X_model[\"y_pred\"] == 0) & (y_train == 1)\n",
    "    \n",
    "    X_model[\"benefit\"][X_model[\"tn\"]] = X_model[\"loan_amnt\"] * (1 + 0.25 * X_model[\"loan_int_rate\"]) ** 10 - X_model[\"loan_amnt\"]\n",
    "    X_model[\"benefit\"][X_model[\"fn\"]] = X_model[\"loan_amnt\"] * (1 + 0.25 * X_model[\"loan_int_rate\"]) ** 3 - 1.7 * X_model[\"loan_amnt\"]\n",
    "\n",
    "    average_benefit = np.sum(X_model[\"benefit\"]) / len(X_model)\n",
    "\n",
    "    ax.scatter(t, average_benefit, color = \"steelblue\", s = 10)\n",
    "    if average_benefit > best_benefit:\n",
    "        best_benefit = average_benefit\n",
    "        best_threshold = t\n",
    "\n",
    "ax.axvline(best_threshold, linestyle = \"--\", color = \"grey\", zorder = -10)\n",
    "labs = ax.set(xlabel = r\"Threshold $t$\", ylabel = \"Net benefit\", title = f\"Best benefit ${best_benefit:.2f} at best threshold t = {best_threshold:.3f}\")"
   ]
  },
  {
   "cell_type": "markdown",
   "metadata": {},
   "source": [
    "Maximization of the bank's profit results in a threshold of 3.710, with a profit per buyer of $1323.22. The value of the threshold has been stored for later use. Lets now test the model with our optimal weight vector and threshold against new testing data. "
   ]
  },
  {
   "cell_type": "code",
   "execution_count": 20,
   "metadata": {},
   "outputs": [
    {
     "name": "stdout",
     "output_type": "stream",
     "text": [
      "The expected profit per buyer is: $1258.37\n"
     ]
    }
   ],
   "source": [
    "url = \"https://raw.githubusercontent.com/PhilChodrow/ml-notes/main/data/credit-risk/test.csv\"\n",
    "df_test = pd.read_csv(url)\n",
    "\n",
    "df_test = df_test.dropna()\n",
    "df_test[\"loan_int_rate\"] = df_test[\"loan_int_rate\"]  /100\n",
    "\n",
    "# Create binary indicators for past defaults\n",
    "df_test[\"past_default_yes\"] = df_test[\"cb_person_default_on_file\"] == \"Y\"\n",
    "df_test[\"past_default_no\"] = df_test[\"cb_person_default_on_file\"] == \"N\"\n",
    "\n",
    "# Generate weighted default predictor\n",
    "df_test[\"weighted_default\"] = df_test[\"loan_percent_income\"] * (1 +  df_test[\"past_default_yes\"])\n",
    "\n",
    "# Generate weigthed interest rate predictor\n",
    "df_test[\"weighted_interest\"] = (1 + df_test[\"loan_int_rate\"]) * df_test[\"loan_amnt\"] * (1 + df_test[\"past_default_yes\"])\n",
    "\n",
    "# Drop the original categorical column\n",
    "df_test.drop(\"cb_person_default_on_file\", axis=1, inplace=True)\n",
    "\n",
    "# initialize the benefit column\n",
    "df_test[\"benefit\"] = 0\n",
    "\n",
    "# calculate the score array\n",
    "scores = score(df_test[true_predictors],w)\n",
    "\n",
    "df_test[\"y_pred\"] = scores >= best_threshold\n",
    "\n",
    "df_test[\"tn\"] = (df_test[\"y_pred\"] == 0) & (df_test[\"loan_status\"] == 0)    \n",
    "df_test[\"fn\"] = (df_test[\"y_pred\"] == 0) & (df_test[\"loan_status\"] == 1)\n",
    "    \n",
    "df_test[\"benefit\"][df_test[\"tn\"]] = df_test[\"loan_amnt\"] * (1 + 0.25 * df_test[\"loan_int_rate\"]) ** 10 - df_test[\"loan_amnt\"]\n",
    "df_test[\"benefit\"][df_test[\"fn\"]] = df_test[\"loan_amnt\"] * (1 + 0.25 * df_test[\"loan_int_rate\"]) ** 3 - 1.7 * df_test[\"loan_amnt\"]\n",
    "\n",
    "average_benefit = np.sum(df_test[\"benefit\"]) / len(df_test)\n",
    "print(\"The expected profit per buyer is: $\" + str(round(average_benefit, 2)))"
   ]
  },
  {
   "cell_type": "markdown",
   "metadata": {},
   "source": [
    "The expected profit per buyer on the test set ($1258.37) is only slightly lower than the expected profit per buyer on the training set ($13)."
   ]
  }
 ],
 "metadata": {
  "kernelspec": {
   "display_name": "ml-0451",
   "language": "python",
   "name": "python3"
  },
  "language_info": {
   "codemirror_mode": {
    "name": "ipython",
    "version": 3
   },
   "file_extension": ".py",
   "mimetype": "text/x-python",
   "name": "python",
   "nbconvert_exporter": "python",
   "pygments_lexer": "ipython3",
   "version": "3.9.21"
  }
 },
 "nbformat": 4,
 "nbformat_minor": 4
}

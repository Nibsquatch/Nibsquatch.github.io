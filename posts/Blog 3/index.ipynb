{
 "cells": [
  {
   "cell_type": "raw",
   "metadata": {
    "vscode": {
     "languageId": "raw"
    }
   },
   "source": [
    "---\n",
    "title: Blog 3 - Auditing Bias\n",
    "author: Ryan Mauney\n",
    "date: '2024-03-12'\n",
    "image: \"image.jpg\"\n",
    "description: \"Predicting employment status in Missouri on the basis of demographics \"\n",
    "format: html\n",
    "---"
   ]
  },
  {
   "cell_type": "markdown",
   "metadata": {},
   "source": [
    "# Abstract"
   ]
  },
  {
   "cell_type": "markdown",
   "metadata": {},
   "source": [
    "# Data Preparation and Package Installation"
   ]
  },
  {
   "cell_type": "markdown",
   "metadata": {},
   "source": [
    "Loading the ACS data from Missouri and selecting the features we want to train on."
   ]
  },
  {
   "cell_type": "code",
   "execution_count": 4,
   "metadata": {},
   "outputs": [
    {
     "data": {
      "text/html": [
       "<div>\n",
       "<style scoped>\n",
       "    .dataframe tbody tr th:only-of-type {\n",
       "        vertical-align: middle;\n",
       "    }\n",
       "\n",
       "    .dataframe tbody tr th {\n",
       "        vertical-align: top;\n",
       "    }\n",
       "\n",
       "    .dataframe thead th {\n",
       "        text-align: right;\n",
       "    }\n",
       "</style>\n",
       "<table border=\"1\" class=\"dataframe\">\n",
       "  <thead>\n",
       "    <tr style=\"text-align: right;\">\n",
       "      <th></th>\n",
       "      <th>AGEP</th>\n",
       "      <th>SCHL</th>\n",
       "      <th>MAR</th>\n",
       "      <th>RELP</th>\n",
       "      <th>DIS</th>\n",
       "      <th>ESP</th>\n",
       "      <th>CIT</th>\n",
       "      <th>MIG</th>\n",
       "      <th>MIL</th>\n",
       "      <th>ANC</th>\n",
       "      <th>NATIVITY</th>\n",
       "      <th>DEAR</th>\n",
       "      <th>DEYE</th>\n",
       "      <th>DREM</th>\n",
       "      <th>SEX</th>\n",
       "      <th>RAC1P</th>\n",
       "      <th>ESR</th>\n",
       "    </tr>\n",
       "  </thead>\n",
       "  <tbody>\n",
       "    <tr>\n",
       "      <th>0</th>\n",
       "      <td>27</td>\n",
       "      <td>17.0</td>\n",
       "      <td>5</td>\n",
       "      <td>16</td>\n",
       "      <td>2</td>\n",
       "      <td>NaN</td>\n",
       "      <td>1</td>\n",
       "      <td>3.0</td>\n",
       "      <td>4.0</td>\n",
       "      <td>4</td>\n",
       "      <td>1</td>\n",
       "      <td>2</td>\n",
       "      <td>2</td>\n",
       "      <td>2.0</td>\n",
       "      <td>2</td>\n",
       "      <td>1</td>\n",
       "      <td>6.0</td>\n",
       "    </tr>\n",
       "    <tr>\n",
       "      <th>1</th>\n",
       "      <td>42</td>\n",
       "      <td>19.0</td>\n",
       "      <td>5</td>\n",
       "      <td>16</td>\n",
       "      <td>2</td>\n",
       "      <td>NaN</td>\n",
       "      <td>1</td>\n",
       "      <td>3.0</td>\n",
       "      <td>4.0</td>\n",
       "      <td>1</td>\n",
       "      <td>1</td>\n",
       "      <td>2</td>\n",
       "      <td>2</td>\n",
       "      <td>2.0</td>\n",
       "      <td>1</td>\n",
       "      <td>2</td>\n",
       "      <td>6.0</td>\n",
       "    </tr>\n",
       "    <tr>\n",
       "      <th>2</th>\n",
       "      <td>20</td>\n",
       "      <td>19.0</td>\n",
       "      <td>5</td>\n",
       "      <td>17</td>\n",
       "      <td>2</td>\n",
       "      <td>NaN</td>\n",
       "      <td>1</td>\n",
       "      <td>1.0</td>\n",
       "      <td>4.0</td>\n",
       "      <td>2</td>\n",
       "      <td>1</td>\n",
       "      <td>2</td>\n",
       "      <td>2</td>\n",
       "      <td>2.0</td>\n",
       "      <td>1</td>\n",
       "      <td>1</td>\n",
       "      <td>1.0</td>\n",
       "    </tr>\n",
       "    <tr>\n",
       "      <th>3</th>\n",
       "      <td>26</td>\n",
       "      <td>17.0</td>\n",
       "      <td>5</td>\n",
       "      <td>16</td>\n",
       "      <td>1</td>\n",
       "      <td>NaN</td>\n",
       "      <td>1</td>\n",
       "      <td>1.0</td>\n",
       "      <td>4.0</td>\n",
       "      <td>1</td>\n",
       "      <td>1</td>\n",
       "      <td>2</td>\n",
       "      <td>2</td>\n",
       "      <td>1.0</td>\n",
       "      <td>1</td>\n",
       "      <td>2</td>\n",
       "      <td>6.0</td>\n",
       "    </tr>\n",
       "    <tr>\n",
       "      <th>4</th>\n",
       "      <td>37</td>\n",
       "      <td>16.0</td>\n",
       "      <td>5</td>\n",
       "      <td>16</td>\n",
       "      <td>1</td>\n",
       "      <td>NaN</td>\n",
       "      <td>1</td>\n",
       "      <td>3.0</td>\n",
       "      <td>4.0</td>\n",
       "      <td>1</td>\n",
       "      <td>1</td>\n",
       "      <td>2</td>\n",
       "      <td>1</td>\n",
       "      <td>1.0</td>\n",
       "      <td>1</td>\n",
       "      <td>2</td>\n",
       "      <td>6.0</td>\n",
       "    </tr>\n",
       "  </tbody>\n",
       "</table>\n",
       "</div>"
      ],
      "text/plain": [
       "   AGEP  SCHL  MAR  RELP  DIS  ESP  CIT  MIG  MIL  ANC  NATIVITY  DEAR  DEYE  \\\n",
       "0    27  17.0    5    16    2  NaN    1  3.0  4.0    4         1     2     2   \n",
       "1    42  19.0    5    16    2  NaN    1  3.0  4.0    1         1     2     2   \n",
       "2    20  19.0    5    17    2  NaN    1  1.0  4.0    2         1     2     2   \n",
       "3    26  17.0    5    16    1  NaN    1  1.0  4.0    1         1     2     2   \n",
       "4    37  16.0    5    16    1  NaN    1  3.0  4.0    1         1     2     1   \n",
       "\n",
       "   DREM  SEX  RAC1P  ESR  \n",
       "0   2.0    2      1  6.0  \n",
       "1   2.0    1      2  6.0  \n",
       "2   2.0    1      1  1.0  \n",
       "3   1.0    1      2  6.0  \n",
       "4   1.0    1      2  6.0  "
      ]
     },
     "execution_count": 4,
     "metadata": {},
     "output_type": "execute_result"
    }
   ],
   "source": [
    "import warnings\n",
    "warnings.filterwarnings('ignore')\n",
    "from folktables import ACSDataSource, ACSEmployment, BasicProblem, adult_filter\n",
    "import numpy as np\n",
    "\n",
    "STATE = \"MO\"\n",
    "\n",
    "data_source = ACSDataSource(survey_year='2018', \n",
    "                            horizon='1-Year', \n",
    "                            survey='person')\n",
    "\n",
    "acs_data = data_source.get_data(states=[STATE], download=True)\n",
    "\n",
    "acs_data.head()\n",
    "\n",
    "# filte the data to only use recommended features\n",
    "possible_features=['AGEP', 'SCHL', 'MAR', 'RELP', 'DIS', 'ESP', 'CIT', 'MIG', 'MIL', 'ANC', 'NATIVITY', 'DEAR', 'DEYE', 'DREM', 'SEX', 'RAC1P', 'ESR']\n",
    "acs_data[possible_features].head()"
   ]
  },
  {
   "cell_type": "markdown",
   "metadata": {},
   "source": [
    "Transforming the features into a basic problem to address the task of predicting employment status while excluding race as a demographic."
   ]
  },
  {
   "cell_type": "code",
   "execution_count": 5,
   "metadata": {},
   "outputs": [],
   "source": [
    "# subset the features we want to use\n",
    "features_to_use = [f for f in possible_features if f not in [\"ESR\", \"RAC1P\"]]\n",
    "\n",
    "# construct a basic problem to predict employment status without considering race\n",
    "EmploymentProblem = BasicProblem(\n",
    "    features=features_to_use,\n",
    "    target='ESR',\n",
    "    target_transform=lambda x: x == 1,\n",
    "    group='RAC1P',\n",
    "    preprocess=lambda x: x,\n",
    "    postprocess=lambda x: np.nan_to_num(x, -1),\n",
    ")\n",
    "\n",
    "# separate into a feature matrix, label vector, and a group label vector\n",
    "features, label, group = EmploymentProblem.df_to_numpy(acs_data)"
   ]
  },
  {
   "cell_type": "markdown",
   "metadata": {},
   "source": [
    "Split into a training and test split."
   ]
  },
  {
   "cell_type": "code",
   "execution_count": 6,
   "metadata": {},
   "outputs": [],
   "source": [
    "from sklearn.model_selection import train_test_split\n",
    "X_train, X_test, y_train, y_test, group_train, group_test = train_test_split(\n",
    "    features, label, group, test_size=0.2, random_state=0)"
   ]
  },
  {
   "cell_type": "markdown",
   "metadata": {},
   "source": [
    "# Assessing Initial Variance"
   ]
  },
  {
   "cell_type": "markdown",
   "metadata": {},
   "source": [
    "First lets look at the basic model accuracy both as a whole and across racial groups at predicting employment status."
   ]
  },
  {
   "cell_type": "code",
   "execution_count": 8,
   "metadata": {},
   "outputs": [
    {
     "name": "stdout",
     "output_type": "stream",
     "text": [
      "The overall testing accuracy is: 0.7864466517141941\n",
      "The testing accuracy for whites is: 0.7861923535344274\n",
      "The testing accuracy for blacks is: 0.7830290010741139\n"
     ]
    }
   ],
   "source": [
    "# pull predictions from the model\n",
    "y_hat = model.predict(X_test)\n",
    "\n",
    "# assess the model's overall predicitve accuracy\n",
    "print(\"The overall testing accuracy is: \" + str((y_hat == y_test).mean()))\n",
    "\n",
    "# asses the model's predictive accuracy for white individuals\n",
    "print(\"The testing accuracy for whites is: \" + str((y_hat == y_test)[group_test == 1].mean()))\n",
    "\n",
    "# assess the model's predicitve accuracy for black individuals\n",
    "print(\"The testing accuracy for blacks is: \" + str((y_hat == y_test)[group_test == 2].mean()))"
   ]
  },
  {
   "cell_type": "markdown",
   "metadata": {},
   "source": [
    "From a basic predictive accuracy standpoint, the model predicts both white and black individual's to be employed at an about the same rate, which is also approximately equivalent to the overall predictive rate. Lets now look at some basic descriptives."
   ]
  },
  {
   "cell_type": "code",
   "execution_count": 9,
   "metadata": {},
   "outputs": [
    {
     "name": "stdout",
     "output_type": "stream",
     "text": [
      "There are 49932 individuals in the dataset \n",
      "\n",
      "There are 22306 individuals in the dataset are currently employed \n",
      "\n",
      "The number of individuals in each group: \n",
      "group\n",
      "1    43713\n",
      "2     3838\n",
      "3      150\n",
      "4        5\n",
      "5       27\n",
      "6      762\n",
      "7       51\n",
      "8      316\n",
      "9     1070\n",
      "dtype: int64\n",
      "\n",
      "The proportion of individuals in each group that are currently employed: \n",
      "group\n",
      "1    0.454396\n",
      "2    0.395779\n",
      "3    0.460000\n",
      "4    0.600000\n",
      "5    0.407407\n",
      "6    0.493438\n",
      "7    0.529412\n",
      "8    0.373418\n",
      "9    0.299065\n",
      "Name: label, dtype: float64\n"
     ]
    },
    {
     "data": {
      "text/plain": [
       "Text(0, 0.5, 'Proportion Employed')"
      ]
     },
     "execution_count": 9,
     "metadata": {},
     "output_type": "execute_result"
    },
    {
     "data": {
      "image/png": "[encoded data removed]",
      "text/plain": [
       "<Figure size 640x480 with 1 Axes>"
      ]
     },
     "metadata": {},
     "output_type": "display_data"
    }
   ],
   "source": [
    "import pandas as pd\n",
    "import seaborn as sns\n",
    "\n",
    "# convert the data back into a dataframe to make it easier to work with\n",
    "df = pd.DataFrame(X_train, columns = features_to_use)\n",
    "df[\"group\"] = group_train\n",
    "df[\"label\"] = y_train\n",
    "\n",
    "# how many individuals are there in the data\n",
    "print(\"There are \" + str(len(df)) + \" individuals in the dataset \\n\")\n",
    "\n",
    "# how many individuals are currently employed\n",
    "print(\"There are \" + str(len(df[df[\"label\"] == 1])) + \" individuals in the dataset are currently employed \\n\")\n",
    "\n",
    "# how many individuals in each group\n",
    "print(\"The number of individuals in each group: \")\n",
    "print(df.groupby(\"group\").size())\n",
    "\n",
    "# proportion of individuals in each group that are currently employed\n",
    "print(\"\\nThe proportion of individuals in each group that are currently employed: \")\n",
    "print(df.groupby(\"group\")[\"label\"].mean())\n",
    "\n",
    "# lets now add sex to the consideration of race and proportion predicted to be employed\n",
    "temp  = df.copy()\n",
    "temp[\"group\"][temp[\"group\"] > 2] = 3\n",
    "ax = sns.barplot(data = temp, x = \"group\", y = \"label\", hue = \"SEX\", errorbar = None)\n",
    "ax.set_xlabel(\"Race (White, Black, Other)\")\n",
    "ax.set_ylabel(\"Proportion Employed\")"
   ]
  },
  {
   "cell_type": "markdown",
   "metadata": {},
   "source": [
    "While there is some variance across sex and race in the employment rate, for the most part the employment rate is approximately equal across all groups. Although both white females and males are more employed more than any other subgroup. "
   ]
  },
  {
   "cell_type": "markdown",
   "metadata": {},
   "source": [
    "# Training a Model"
   ]
  },
  {
   "cell_type": "markdown",
   "metadata": {},
   "source": [
    "Lets train a model using a decision tree classifier with an optimal model complexity. Select model complexity based on the complexity that gets the higest accuracy and the lowest standard deviation."
   ]
  },
  {
   "cell_type": "code",
   "execution_count": 25,
   "metadata": {},
   "outputs": [
    {
     "name": "stdout",
     "output_type": "stream",
     "text": [
      "Purely by accuracy, the best five model complexities are: [(0.8406760653636655, 7), (0.8403556552387056, 9), (0.8398750400512656, 8), (0.8395546299263057, 10), (0.8393143223325857, 6)]\n"
     ]
    }
   ],
   "source": [
    "from sklearn.tree import DecisionTreeClassifier\n",
    "from sklearn.pipeline import make_pipeline\n",
    "from sklearn.preprocessing import StandardScaler\n",
    "from sklearn.metrics import confusion_matrix\n",
    "\n",
    "# assess 50 model complexities\n",
    "\n",
    "complexity = []\n",
    "\n",
    "for i in range(1, 50, 1):\n",
    "    # fit a model with the given complexity\n",
    "    m = DecisionTreeClassifier(max_depth = i)\n",
    "    m.fit(X_train, y_train)\n",
    "\n",
    "    # assess accuracy\n",
    "    test_hat = m.predict(X_test)\n",
    "    test_acc = (test_hat == y_test).mean()\n",
    "\n",
    "    # store this result\n",
    "    complexity.append((test_acc, i))\n",
    "\n",
    "complexity.sort(reverse = True)\n",
    "\n",
    "print(\"Purely by accuracy, the best five model complexities are: \" + str(complexity[:5]))\n"
   ]
  },
  {
   "cell_type": "markdown",
   "metadata": {},
   "source": [
    "Assess these models to find which one is most consistent by checking with cross validation."
   ]
  },
  {
   "cell_type": "code",
   "execution_count": 31,
   "metadata": {},
   "outputs": [
    {
     "name": "stdout",
     "output_type": "stream",
     "text": [
      "The model complexity that minimizes standard devition is: 10 with a standard deviation of: 0.003017848065508687\n"
     ]
    }
   ],
   "source": [
    "from sklearn.model_selection import cross_val_score\n",
    "\n",
    "# pull out the top 5 complexities\n",
    "best_complexity = []\n",
    "for comp in complexity:\n",
    "    best_complexity.append(comp[1])\n",
    "\n",
    "best_complexity = best_complexity[:5]\n",
    "best_comp = 0\n",
    "best_std = float(\"inf\")\n",
    "\n",
    "# assess which of the best complexities has the lowest standard deviation in cross validation\n",
    "for comp in best_complexity:\n",
    "    # fit the model\n",
    "    m = DecisionTreeClassifier(max_depth = comp)\n",
    "    m.fit(X_train, y_train)\n",
    "\n",
    "    # assess cross validation\n",
    "    cv_scores = cross_val_score(m, X_train, y_train, cv = 5)\n",
    "    std = np.std(cv_scores)\n",
    "\n",
    "    if std < best_std:\n",
    "        best_std = std\n",
    "        best_comp = comp\n",
    "\n",
    "print(\"The model complexity that minimizes standard devition is: \" + str(best_comp) + \" with a standard deviation of: \" + str(best_std))"
   ]
  }
 ],
 "metadata": {
  "kernelspec": {
   "display_name": "ml-0451",
   "language": "python",
   "name": "python3"
  },
  "language_info": {
   "codemirror_mode": {
    "name": "ipython",
    "version": 3
   },
   "file_extension": ".py",
   "mimetype": "text/x-python",
   "name": "python",
   "nbconvert_exporter": "python",
   "pygments_lexer": "ipython3",
   "version": "3.9.21"
  }
 },
 "nbformat": 4,
 "nbformat_minor": 4
}
